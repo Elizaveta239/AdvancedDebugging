{
 "cells": [
  {
   "cell_type": "markdown",
   "metadata": {
    "collapsed": true,
    "pycharm": {
     "name": "#%% md\n"
    }
   },
   "source": [
    "\n",
    "# Advanced Debugging with PyCharm\n",
    "\n",
    "### Webinar\n",
    "\n",
    "January 2020\n"
   ]
  },
  {
   "cell_type": "markdown",
   "source": [
    "\n",
    "## Project:\n",
    "\n",
    "1. Tetris game (with `arcade` module)\n",
    "  * https://github.com/Elizaveta239/AdvancedDebugging\n",
    "2. Python 3.8 (released October 2019)\n",
    "  * Have you already tried walrus operator? (`:=`)\n",
    "3. JetBrains Mono - created for developers!\n",
    "  * https://www.jetbrains.com/lp/mono/\n"
   ],
   "metadata": {
    "collapsed": false,
    "pycharm": {
     "name": "#%% md\n"
    }
   }
  },
  {
   "cell_type": "markdown",
   "source": [
    "\n",
    "## Debugging\n",
    "\n",
    "What happens inside `draw_grid()` ? \n",
    "1. Adding `print`\n",
    "2. Logging \n",
    "3. `pdb.set_trace()`\n",
    "4. `breakpoint()` since Python 3.7\n",
    "\n"
   ],
   "metadata": {
    "collapsed": false,
    "pycharm": {
     "name": "#%% md\n"
    }
   }
  },
  {
   "cell_type": "markdown",
   "source": [
    "\n",
    "## Visual Debugger\n",
    "\n",
    "1. Add breakpoint when program is running\n",
    "2. Running `pydevd.py` from `helpers` folder\n",
    "3. Variable values\n",
    "4. Call stack\n"
   ],
   "metadata": {
    "collapsed": false,
    "pycharm": {
     "name": "#%% md\n"
    }
   }
  },
  {
   "cell_type": "markdown",
   "source": [
    "\n",
    "## Breakpoints\n",
    "\n",
    "1. Add and remove during run\n",
    "2. Breakpoint options\n",
    "3. Temporarily disable your breakpoint, so won't lose location!\n",
    "4. Go to \"View Breakpoints\"\n",
    "5. Convert a breakpoint to a logger: \n",
    "  * disable \"Suspend\"\n",
    "  * enable \"Evaluate and Log\"\n",
    "6. Conditional Breakpoints\n"
   ],
   "metadata": {
    "collapsed": false
   }
  },
  {
   "cell_type": "markdown",
   "source": [
    "\n",
    "## Exception Breakpoints\n",
    "\n",
    "I want to remove the bottom line of cells\n",
    "\n",
    "1. Find Usages for `self.board`\n",
    "2. Replace 1 with 0 inside `new_board()`\n",
    "3. Exception is caught by Exception Breakpoint\n",
    "4. Use Debug Console or Evaluate Expression for `cy + off_y`\n",
    "5. Add this expression to Watches\n"
   ],
   "metadata": {
    "collapsed": false,
    "pycharm": {
     "name": "#%% md\n"
    }
   }
  },
  {
   "cell_type": "markdown",
   "source": [
    "\n",
    "## Stepping\n",
    "\n",
    "The last row is empty in the beginning, but it doesn't disappear when it's full\n",
    "\n",
    "1. Find Usages for `self.board`\n",
    "2. Check contents of `drop()` function\n",
    "3. Put breakpoint with condition\n",
    "4. Step Into, Step Over\n"
   ],
   "metadata": {
    "collapsed": false,
    "pycharm": {
     "name": "#%% md\n"
    }
   }
  },
  {
   "cell_type": "markdown",
   "source": [
    "\n",
    "## Data Science\n",
    "\n",
    "1. Data Viewer for `numpy` and `pandas`\n",
    "2. Debugger for Jupyter Notebooks\n",
    "\n"
   ],
   "metadata": {
    "collapsed": false,
    "pycharm": {
     "name": "#%% md\n"
    }
   }
  }
 ],
 "metadata": {
  "kernelspec": {
   "display_name": "Python 3",
   "language": "python",
   "name": "python3"
  },
  "language_info": {
   "codemirror_mode": {
    "name": "ipython",
    "version": 2
   },
   "file_extension": ".py",
   "mimetype": "text/x-python",
   "name": "python",
   "nbconvert_exporter": "python",
   "pygments_lexer": "ipython2",
   "version": "2.7.6"
  },
  "pycharm": {
   "stem_cell": {
    "cell_type": "raw",
    "source": [],
    "metadata": {
     "collapsed": false
    }
   }
  }
 },
 "nbformat": 4,
 "nbformat_minor": 0
}