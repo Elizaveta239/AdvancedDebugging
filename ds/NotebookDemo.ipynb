{
 "cells": [
  {
   "cell_type": "markdown",
   "source": [
    "## I'm a Jupyter Notebook \n",
    "\n",
    "#### You can:\n",
    "\n",
    "* Execute cells\n",
    "* Use PyCharm smart code editing inside Jupyter Notebook\n",
    "* Use Jupyter execution features inside PyCharm\n",
    "* Use Variables View\n",
    "* Debug cells\n"
   ],
   "metadata": {
    "collapsed": false,
    "pycharm": {
     "name": "#%% md\n"
    }
   }
  },
  {
   "cell_type": "code",
   "execution_count": 2,
   "metadata": {
    "collapsed": true,
    "pycharm": {
     "is_executing": false
    }
   },
   "outputs": [
    {
     "name": "stdout",
     "text": [
      "Hello from Earth!\n"
     ],
     "output_type": "stream"
    }
   ],
   "source": [
    "\n",
    "my_name = \"Earth\"\n",
    "earth_neighbors = [\"Mars\", \"Venus\"]\n",
    "print(\"Hello from Earth!\")\n"
   ]
  },
  {
   "cell_type": "markdown",
   "source": [
    "\n",
    "### Let's send greetings\n"
   ],
   "metadata": {
    "collapsed": false,
    "pycharm": {
     "name": "#%% md\n"
    }
   }
  },
  {
   "cell_type": "code",
   "execution_count": 3,
   "outputs": [
    {
     "name": "stdout",
     "text": [
      "Hi Mars!\n",
      "Hi Venus!\n",
      "2\n",
      "I have 2 neighbors\n"
     ],
     "output_type": "stream"
    }
   ],
   "source": [
    "\n",
    "def greet_neighbors(neighbors):\n",
    "    for n in neighbors:\n",
    "        print(f\"Hi {n}!\")\n",
    "    return len(neighbors)\n",
    "\n",
    "num = greet_neighbors(earth_neighbors)\n",
    "print(num)\n",
    "print(f\"I have {num} neighbors\")\n"
   ],
   "metadata": {
    "collapsed": false,
    "pycharm": {
     "name": "#%%\n",
     "is_executing": false
    }
   }
  },
  {
   "cell_type": "code",
   "execution_count": 4,
   "outputs": [
    {
     "name": "stdout",
     "text": [
      "Hi Mars!\n",
      "Hi Saturn!\n",
      "2\n"
     ],
     "output_type": "stream"
    }
   ],
   "source": [
    "\n",
    "jupiter_neighbors = [\"Mars\", \"Saturn\"]\n",
    "jupiter_len = greet_neighbors(jupiter_neighbors)\n",
    "print(jupiter_len)\n"
   ],
   "metadata": {
    "collapsed": false,
    "pycharm": {
     "name": "#%%\n",
     "is_executing": false
    }
   }
  },
  {
   "cell_type": "code",
   "execution_count": 7,
   "outputs": [
    {
     "name": "stdout",
     "text": [
      "[0.539301   0.1645703  0.04190006 0.04427702]\n",
      "[[3.14760e-01 5.71000e-02 2.89910e-01 7.19200e-02]\n",
      " [1.20020e+00 8.20260e-01 4.52940e-01 2.46650e-01]\n",
      " [1.65941e+00 8.34990e-01 4.04820e-01 3.12660e-01]\n",
      " ...\n",
      " [1.72629e+00 9.39050e-01 5.81730e-01 3.82050e-01]\n",
      " [2.32870e-01 1.82550e-01 2.93910e-01 1.84400e-02]\n",
      " [1.90670e-01 3.65500e-02 4.63900e-02 2.30000e-04]]\n"
     ],
     "output_type": "stream"
    }
   ],
   "source": [
    "\n",
    "import numpy as np\n",
    "from ds.decision_tree import get_features_targets\n",
    "\n",
    "data = np.load('../data/sdss_galaxy_colors.npy')\n",
    "\n",
    "features, targets = get_features_targets(data)\n",
    "\n",
    "print(features)\n"
   ],
   "metadata": {
    "collapsed": false,
    "pycharm": {
     "name": "#%%\n",
     "is_executing": false
    }
   }
  },
  {
   "cell_type": "code",
   "execution_count": 8,
   "outputs": [],
   "source": [
    "\n"
   ],
   "metadata": {
    "collapsed": false,
    "pycharm": {
     "name": "#%%\n",
     "is_executing": false
    }
   }
  }
 ],
 "metadata": {
  "language_info": {
   "codemirror_mode": {
    "name": "ipython",
    "version": 2
   },
   "file_extension": ".py",
   "mimetype": "text/x-python",
   "name": "python",
   "nbconvert_exporter": "python",
   "pygments_lexer": "ipython2",
   "version": "2.7.6"
  },
  "kernelspec": {
   "name": "python3",
   "language": "python",
   "display_name": "Python 3"
  },
  "pycharm": {
   "stem_cell": {
    "cell_type": "raw",
    "source": [],
    "metadata": {
     "collapsed": false
    }
   }
  }
 },
 "nbformat": 4,
 "nbformat_minor": 0
}